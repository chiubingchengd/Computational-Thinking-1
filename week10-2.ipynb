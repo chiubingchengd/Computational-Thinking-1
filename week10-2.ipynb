{
  "nbformat": 4,
  "nbformat_minor": 0,
  "metadata": {
    "colab": {
      "name": "Untitled6.ipynb",
      "provenance": [],
      "authorship_tag": "ABX9TyOr+S8/V6Su55siklZI07Oe",
      "include_colab_link": true
    },
    "kernelspec": {
      "name": "python3",
      "display_name": "Python 3"
    }
  },
  "cells": [
    {
      "cell_type": "markdown",
      "metadata": {
        "id": "view-in-github",
        "colab_type": "text"
      },
      "source": [
        "<a href=\"https://colab.research.google.com/github/chiubingchengd/Computational-Thinking-1/blob/master/week10-2.ipynb\" target=\"_parent\"><img src=\"https://colab.research.google.com/assets/colab-badge.svg\" alt=\"Open In Colab\"/></a>"
      ]
    },
    {
      "cell_type": "code",
      "metadata": {
        "colab": {
          "base_uri": "https://localhost:8080/"
        },
        "id": "0KlOMrWogOqD",
        "outputId": "8a5ab1ee-775b-4a05-b9f0-5d0dc876ae1f"
      },
      "source": [
        "time=123\n",
        "hour=time//60#商數\n",
        "minute=time%60#餘數\n",
        "print(time,\"是\",hour,\"小時\",minute,\"分鐘\")"
      ],
      "execution_count": 1,
      "outputs": [
        {
          "output_type": "stream",
          "text": [
            "123 是 2 小時 3 分鐘\n"
          ],
          "name": "stdout"
        }
      ]
    },
    {
      "cell_type": "code",
      "metadata": {
        "colab": {
          "base_uri": "https://localhost:8080/"
        },
        "id": "hS98LUX7h5Pa",
        "outputId": "232a4c45-26ee-477f-9c43-a68a346f9ddc"
      },
      "source": [
        "time=123\n",
        "hour1=int(time/60)#除法與整數\n",
        "minute1=((time/60)-hour1)*60\n",
        "import math\n",
        "minute1=round(minute1)\n",
        "print(time,\"是\",hour,\"小時\",minute,\"分鐘\")"
      ],
      "execution_count": 2,
      "outputs": [
        {
          "output_type": "stream",
          "text": [
            "123 是 2 小時 3 分鐘\n"
          ],
          "name": "stdout"
        }
      ]
    }
  ]
}