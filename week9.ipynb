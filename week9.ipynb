{
  "nbformat": 4,
  "nbformat_minor": 0,
  "metadata": {
    "colab": {
      "name": "Untitled4.ipynb",
      "provenance": [],
      "authorship_tag": "ABX9TyP1Y5QkwdT8rgPurqzUnshU",
      "include_colab_link": true
    },
    "kernelspec": {
      "name": "python3",
      "display_name": "Python 3"
    }
  },
  "cells": [
    {
      "cell_type": "markdown",
      "metadata": {
        "id": "view-in-github",
        "colab_type": "text"
      },
      "source": [
        "<a href=\"https://colab.research.google.com/github/chiubingchengd/Computational-Thinking-1/blob/master/week9.ipynb\" target=\"_parent\"><img src=\"https://colab.research.google.com/assets/colab-badge.svg\" alt=\"Open In Colab\"/></a>"
      ]
    },
    {
      "cell_type": "code",
      "metadata": {
        "id": "MyMtC1t9coXP",
        "outputId": "9ce1449c-1c43-4b50-a19d-a017a99b83e5",
        "colab": {
          "base_uri": "https://localhost:8080/"
        }
      },
      "source": [
        " x=2\n",
        " y=5\n",
        " print(x + y)\n",
        " print(x - y)\n",
        " print(x / y)\n",
        " print(x // y)\n",
        " print(x % y)\n",
        " print(x ** y)"
      ],
      "execution_count": 1,
      "outputs": [
        {
          "output_type": "stream",
          "text": [
            "7\n",
            "-3\n",
            "0.4\n",
            "0\n",
            "2\n",
            "32\n"
          ],
          "name": "stdout"
        }
      ]
    },
    {
      "cell_type": "code",
      "metadata": {
        "id": "wdm3C1Hqdpnc",
        "outputId": "33a4b672-8ead-4c2f-aa54-02cfe7e88437",
        "colab": {
          "base_uri": "https://localhost:8080/",
          "height": 52
        }
      },
      "source": [
        " input()"
      ],
      "execution_count": 2,
      "outputs": [
        {
          "output_type": "stream",
          "text": [
            "6\n"
          ],
          "name": "stdout"
        },
        {
          "output_type": "execute_result",
          "data": {
            "application/vnd.google.colaboratory.intrinsic+json": {
              "type": "string"
            },
            "text/plain": [
              "'6'"
            ]
          },
          "metadata": {
            "tags": []
          },
          "execution_count": 2
        }
      ]
    },
    {
      "cell_type": "code",
      "metadata": {
        "id": "91Q3AR9Pd0e9",
        "outputId": "d01a2440-6494-4b6c-9e99-bdc6488d80ca",
        "colab": {
          "base_uri": "https://localhost:8080/",
          "height": 52
        }
      },
      "source": [
        "input(\"please enter the number\")\n"
      ],
      "execution_count": 3,
      "outputs": [
        {
          "output_type": "stream",
          "text": [
            "please enter the number7\n"
          ],
          "name": "stdout"
        },
        {
          "output_type": "execute_result",
          "data": {
            "application/vnd.google.colaboratory.intrinsic+json": {
              "type": "string"
            },
            "text/plain": [
              "'7'"
            ]
          },
          "metadata": {
            "tags": []
          },
          "execution_count": 3
        }
      ]
    },
    {
      "cell_type": "code",
      "metadata": {
        "id": "l2cRVXFYeEqd",
        "outputId": "4b163c3a-39a3-42b8-cbad-1607b3997dcb",
        "colab": {
          "base_uri": "https://localhost:8080/"
        }
      },
      "source": [
        " x = input(\"please enter the number?\")"
      ],
      "execution_count": 4,
      "outputs": [
        {
          "output_type": "stream",
          "text": [
            "please enter the number?4\n"
          ],
          "name": "stdout"
        }
      ]
    },
    {
      "cell_type": "code",
      "metadata": {
        "id": "lrKnLFkqebJz",
        "outputId": "fe8a8427-1a19-4dc4-b72d-a099180b1531",
        "colab": {
          "base_uri": "https://localhost:8080/",
          "height": 35
        }
      },
      "source": [
        " x"
      ],
      "execution_count": 5,
      "outputs": [
        {
          "output_type": "execute_result",
          "data": {
            "application/vnd.google.colaboratory.intrinsic+json": {
              "type": "string"
            },
            "text/plain": [
              "'4'"
            ]
          },
          "metadata": {
            "tags": []
          },
          "execution_count": 5
        }
      ]
    },
    {
      "cell_type": "code",
      "metadata": {
        "id": "qnxO6EdFekSX",
        "outputId": "96bc5f6b-1195-49ab-e90e-cc32dc833ed4",
        "colab": {
          "base_uri": "https://localhost:8080/"
        }
      },
      "source": [
        "print(x)"
      ],
      "execution_count": 6,
      "outputs": [
        {
          "output_type": "stream",
          "text": [
            "4\n"
          ],
          "name": "stdout"
        }
      ]
    },
    {
      "cell_type": "code",
      "metadata": {
        "id": "kznUH971esLD",
        "outputId": "3d6d3e7f-d389-411f-b686-0e3cd4813746",
        "colab": {
          "base_uri": "https://localhost:8080/"
        }
      },
      "source": [
        " print(x,2,\"python\")"
      ],
      "execution_count": 7,
      "outputs": [
        {
          "output_type": "stream",
          "text": [
            "4 2 python\n"
          ],
          "name": "stdout"
        }
      ]
    },
    {
      "cell_type": "code",
      "metadata": {
        "id": "1lMoU1PLfOU-",
        "outputId": "65c67140-f9f5-4502-a9f6-538549e84a29",
        "colab": {
          "base_uri": "https://localhost:8080/"
        }
      },
      "source": [
        " x = input(\"please enter the number of clothes?\")"
      ],
      "execution_count": 8,
      "outputs": [
        {
          "output_type": "stream",
          "text": [
            "please enter the number of clothes?7\n"
          ],
          "name": "stdout"
        }
      ]
    },
    {
      "cell_type": "code",
      "metadata": {
        "id": "5FJ2ctTFfpBf"
      },
      "source": [
        " x = int(x)"
      ],
      "execution_count": 10,
      "outputs": []
    },
    {
      "cell_type": "code",
      "metadata": {
        "id": "xZswEH-AfsM2"
      },
      "source": [
        " total = 300 * x"
      ],
      "execution_count": 30,
      "outputs": []
    },
    {
      "cell_type": "code",
      "metadata": {
        "id": "pXztGe4RgI17",
        "outputId": "c1fed87e-25cd-48bd-fd85-bceb902f56de",
        "colab": {
          "base_uri": "https://localhost:8080/"
        }
      },
      "source": [
        "print(total)"
      ],
      "execution_count": 20,
      "outputs": [
        {
          "output_type": "stream",
          "text": [
            "2100\n"
          ],
          "name": "stdout"
        }
      ]
    },
    {
      "cell_type": "code",
      "metadata": {
        "id": "aKEugUxmgjIE",
        "outputId": "b5a19719-d61d-40d1-e7c6-43e58da1d7bd",
        "colab": {
          "base_uri": "https://localhost:8080/"
        }
      },
      "source": [
        "x = int(input(\"please enter the number of clothes?\"))\n",
        "total = 300 * x\n",
        "print(total)"
      ],
      "execution_count": 36,
      "outputs": [
        {
          "output_type": "stream",
          "text": [
            "please enter the number of clothes?4\n",
            "1200\n"
          ],
          "name": "stdout"
        }
      ]
    },
    {
      "cell_type": "code",
      "metadata": {
        "id": "ktbyGp1VhxRX",
        "outputId": "b484bc47-2568-40a6-eca5-515a34b8e13d",
        "colab": {
          "base_uri": "https://localhost:8080/"
        }
      },
      "source": [
        "can = int(input(\"請輸入購買的飲料罐數\"))\n",
        "total = (can//12)*200+(can%12)*20\n",
        "print(\"需花費\" ,total)"
      ],
      "execution_count": 40,
      "outputs": [
        {
          "output_type": "stream",
          "text": [
            "請輸入購買的飲料罐數9\n",
            "需花費 180\n"
          ],
          "name": "stdout"
        }
      ]
    },
    {
      "cell_type": "code",
      "metadata": {
        "id": "BsMnqL95lvym",
        "outputId": "3831f8de-3cac-4434-f28b-0fb357df994d",
        "colab": {
          "base_uri": "https://localhost:8080/"
        }
      },
      "source": [
        "first = int(input(\"請輸入第一次期中考成績? \"))\n",
        "second = int(input(\"請輸入第二次期中考成績? \"))\n",
        "final = int(input(\"請輸入期末考成績? \"))\n",
        "total = first + second + final\n",
        "average = total / 3\n",
        "print(\"總分為\" , total, \"平均為\" , average)"
      ],
      "execution_count": 42,
      "outputs": [
        {
          "output_type": "stream",
          "text": [
            "請輸入第一次期中考成績? 75\n",
            "請輸入第二次期中考成績? 80\n",
            "請輸入期末考成績? 50\n",
            "總分為 205 平均為 68.33333333333333\n"
          ],
          "name": "stdout"
        }
      ]
    }
  ]
}