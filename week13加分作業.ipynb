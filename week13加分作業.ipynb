{
  "nbformat": 4,
  "nbformat_minor": 0,
  "metadata": {
    "colab": {
      "name": "Untitled11.ipynb",
      "provenance": [],
      "authorship_tag": "ABX9TyNk9/OdiBrMd0HUrky0pcAs",
      "include_colab_link": true
    },
    "kernelspec": {
      "name": "python3",
      "display_name": "Python 3"
    }
  },
  "cells": [
    {
      "cell_type": "markdown",
      "metadata": {
        "id": "view-in-github",
        "colab_type": "text"
      },
      "source": [
        "<a href=\"https://colab.research.google.com/github/chiubingchengd/Computational-Thinking-1/blob/master/week13%E5%8A%A0%E5%88%86%E4%BD%9C%E6%A5%AD.ipynb\" target=\"_parent\"><img src=\"https://colab.research.google.com/assets/colab-badge.svg\" alt=\"Open In Colab\"/></a>"
      ]
    },
    {
      "cell_type": "code",
      "metadata": {
        "colab": {
          "base_uri": "https://localhost:8080/"
        },
        "id": "DnSWsGpDyESS",
        "outputId": "a6a15fc7-d117-4f12-932d-d0111233926a"
      },
      "source": [
        " start = int(input('請輸入加總開始值?'))\r\n",
        " stop = int(input('請輸入加總終止值?'))\r\n",
        " step = int(input('請輸入遞增減值?'))\r\n",
        " sum = 0 \r\n",
        " for i in range(start, stop, step): \r\n",
        "  sum = sum + i \r\n",
        "  print('i為', i, '時,累加結果為', sum)"
      ],
      "execution_count": 2,
      "outputs": [
        {
          "output_type": "stream",
          "text": [
            "請輸入加總開始值?1\n",
            "請輸入加總終止值?6\n",
            "請輸入遞增減值?1\n",
            "i為 1 時,累加結果為 1\n",
            "i為 2 時,累加結果為 3\n",
            "i為 3 時,累加結果為 6\n",
            "i為 4 時,累加結果為 10\n",
            "i為 5 時,累加結果為 15\n"
          ],
          "name": "stdout"
        }
      ]
    }
  ]
}