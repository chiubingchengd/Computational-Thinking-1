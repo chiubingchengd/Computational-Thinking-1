{
  "nbformat": 4,
  "nbformat_minor": 0,
  "metadata": {
    "colab": {
      "name": "Untitled5.ipynb",
      "provenance": [],
      "authorship_tag": "ABX9TyNCAJpV58cnjUrE30fzMrQk",
      "include_colab_link": true
    },
    "kernelspec": {
      "name": "python3",
      "display_name": "Python 3"
    }
  },
  "cells": [
    {
      "cell_type": "markdown",
      "metadata": {
        "id": "view-in-github",
        "colab_type": "text"
      },
      "source": [
        "<a href=\"https://colab.research.google.com/github/chiubingchengd/Computational-Thinking-1/blob/master/week10-1.ipynb\" target=\"_parent\"><img src=\"https://colab.research.google.com/assets/colab-badge.svg\" alt=\"Open In Colab\"/></a>"
      ]
    },
    {
      "cell_type": "code",
      "metadata": {
        "id": "nlD1JJ59X6uc"
      },
      "source": [
        "  movie title = \"money ball\"\n",
        "  release_year = \"2011\"\n",
        "  director: \"Bennett Miller\"\n",
        "  Writers: \"Steven Zaillian (screenplay), Aaron Sorkin (screenplay)\"\n",
        "  Stars: \"Brad Pitt, Robin Wright, Jonah Hil \"\n",
        "  \n",
        "  print(\"電腦英文名稱\",movie_title)\n",
        "  print(\"上映時間\",release_year)\n",
        "  print(\"導演\",director)\n",
        "  print(\"作家\",writers)\n",
        "  print(\"明星\",stars)"
      ],
      "execution_count": null,
      "outputs": []
    }
  ]
}