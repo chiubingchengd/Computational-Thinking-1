{
  "nbformat": 4,
  "nbformat_minor": 0,
  "metadata": {
    "colab": {
      "name": "Untitled10.ipynb",
      "provenance": [],
      "authorship_tag": "ABX9TyNHkP3vosJvjEz1L6yH405q",
      "include_colab_link": true
    },
    "kernelspec": {
      "name": "python3",
      "display_name": "Python 3"
    }
  },
  "cells": [
    {
      "cell_type": "markdown",
      "metadata": {
        "id": "view-in-github",
        "colab_type": "text"
      },
      "source": [
        "<a href=\"https://colab.research.google.com/github/chiubingchengd/Computational-Thinking-1/blob/master/week13.ipynb\" target=\"_parent\"><img src=\"https://colab.research.google.com/assets/colab-badge.svg\" alt=\"Open In Colab\"/></a>"
      ]
    },
    {
      "cell_type": "code",
      "metadata": {
        "colab": {
          "base_uri": "https://localhost:8080/"
        },
        "id": "ozwXRtnWjjN1",
        "outputId": "479e57de-1967-464c-e52a-d88e1eca6223"
      },
      "source": [
        " for i in range(0,5,1):\r\n",
        "  print(\"Hello\")"
      ],
      "execution_count": 2,
      "outputs": [
        {
          "output_type": "stream",
          "text": [
            "Hello\n",
            "Hello\n",
            "Hello\n",
            "Hello\n",
            "Hello\n"
          ],
          "name": "stdout"
        }
      ]
    },
    {
      "cell_type": "code",
      "metadata": {
        "colab": {
          "base_uri": "https://localhost:8080/"
        },
        "id": "uF2Zwcm9lFLv",
        "outputId": "7851e211-3b58-4de4-f5ab-49d298524a70"
      },
      "source": [
        "#[100,97,94,91]\r\n",
        "for i in range(100,90,-3):\r\n",
        "   print(i)"
      ],
      "execution_count": 6,
      "outputs": [
        {
          "output_type": "stream",
          "text": [
            "100\n",
            "97\n",
            "94\n",
            "91\n"
          ],
          "name": "stdout"
        }
      ]
    },
    {
      "cell_type": "code",
      "metadata": {
        "colab": {
          "base_uri": "https://localhost:8080/"
        },
        "id": "0Mi_F5yRqAlS",
        "outputId": "bb0597a1-d3f3-477c-8d95-413ac973f934"
      },
      "source": [
        "sum = 0\r\n",
        "for i in range(1,11,1):\r\n",
        " sum = sum + i\r\n",
        " print(\"total is\" , sum)"
      ],
      "execution_count": 7,
      "outputs": [
        {
          "output_type": "stream",
          "text": [
            "total is 1\n",
            "total is 3\n",
            "total is 6\n",
            "total is 10\n",
            "total is 15\n",
            "total is 21\n",
            "total is 28\n",
            "total is 36\n",
            "total is 45\n",
            "total is 55\n"
          ],
          "name": "stdout"
        }
      ]
    },
    {
      "cell_type": "code",
      "metadata": {
        "colab": {
          "base_uri": "https://localhost:8080/"
        },
        "id": "D14MEB-hrOEa",
        "outputId": "80e861ff-9d7b-4dfd-c856-dcba481d0398"
      },
      "source": [
        "# 3+6+9+12 =30\r\n",
        "sum = 0\r\n",
        "for i in range(3,13,3):\r\n",
        " sum = sum + i\r\n",
        "print(\"TOTAL IS\",sum)\r\n"
      ],
      "execution_count": 12,
      "outputs": [
        {
          "output_type": "stream",
          "text": [
            "TOTAL IS 30\n"
          ],
          "name": "stdout"
        }
      ]
    },
    {
      "cell_type": "code",
      "metadata": {
        "colab": {
          "base_uri": "https://localhost:8080/"
        },
        "id": "6XS8Gp6RxA3_",
        "outputId": "f5564b66-b440-4244-ddc1-f8a62e4418f3"
      },
      "source": [
        "n = int(input(\"請輸入一個數字?\" ))\r\n",
        "sum= 0\r\n",
        "for i in range(1,n+1):\r\n",
        "   sum =sum + i*i\r\n",
        "print(\"數字平方和\", sum)\r\n"
      ],
      "execution_count": 25,
      "outputs": [
        {
          "output_type": "stream",
          "text": [
            "請輸入一個數字?5\n",
            "數字平方和 55\n"
          ],
          "name": "stdout"
        }
      ]
    }
  ]
}