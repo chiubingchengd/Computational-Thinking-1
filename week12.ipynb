{
  "nbformat": 4,
  "nbformat_minor": 0,
  "metadata": {
    "colab": {
      "name": "Untitled9.ipynb",
      "provenance": [],
      "authorship_tag": "ABX9TyMr111mpIPVhyG5uThv2L/o",
      "include_colab_link": true
    },
    "kernelspec": {
      "name": "python3",
      "display_name": "Python 3"
    }
  },
  "cells": [
    {
      "cell_type": "markdown",
      "metadata": {
        "id": "view-in-github",
        "colab_type": "text"
      },
      "source": [
        "<a href=\"https://colab.research.google.com/github/chiubingchengd/Computational-Thinking-1/blob/master/week12.ipynb\" target=\"_parent\"><img src=\"https://colab.research.google.com/assets/colab-badge.svg\" alt=\"Open In Colab\"/></a>"
      ]
    },
    {
      "cell_type": "code",
      "metadata": {
        "id": "DW75jC5udNeH",
        "colab": {
          "base_uri": "https://localhost:8080/"
        },
        "outputId": "3c5f644a-bd98-4893-c5db-da3f612ff182"
      },
      "source": [
        "shoppinng_list=['蘋果' '香蕉' '牛肉' '豬肉' '羊肉']\n",
        "print(shoppinng_list)"
      ],
      "execution_count": 1,
      "outputs": [
        {
          "output_type": "stream",
          "text": [
            "['蘋果香蕉牛肉豬肉羊肉']\n"
          ],
          "name": "stdout"
        }
      ]
    },
    {
      "cell_type": "code",
      "metadata": {
        "colab": {
          "base_uri": "https://localhost:8080/"
        },
        "id": "gez3gTJYh_yi",
        "outputId": "70b5217f-cf2e-4518-ee01-e864833afa5c"
      },
      "source": [
        "# NBA冠軍賽的六筆資訊\n",
        "season = \"1995-1996\"\n",
        "team = \"Chicago Bulls\"\n",
        "coach = \"Phil Jackson\"\n",
        "records = [72, 10]\n",
        "starting = [\"Ron Harper\", \"Michael Jordan\", \"ScottiePippen\", \"Dennis Rodman\", \"Luc Longley\"]\n",
        "champion = True\n",
        "best_NBA = list((season, team, coach, starting,))\n",
        "print(best_NBA )"
      ],
      "execution_count": 11,
      "outputs": [
        {
          "output_type": "stream",
          "text": [
            "['1995-1996', 'Chicago Bulls', 'Phil Jackson', ['Ron Harper', 'Michael Jordan', 'ScottiePippen', 'Dennis Rodman', 'Luc Longley']]\n"
          ],
          "name": "stdout"
        }
      ]
    },
    {
      "cell_type": "code",
      "metadata": {
        "colab": {
          "base_uri": "https://localhost:8080/"
        },
        "id": "To7rfKwii60m",
        "outputId": "75f0fe71-60d6-419c-fee4-5a14ad58fdbc"
      },
      "source": [
        " #[0,1,2,3,4,5,6,7,8,9]\n",
        " a=range(0, 10, 1)\n",
        " print(a[0],a[1],a[2],a[3],a[4],a[5],a[6],a[7],a[8],a[9])\n",
        " #[0,2,4,6,8]\n",
        " b=range(0,9,2)\n",
        " print(b[0],b[1],b[2],b[3],b[4])\n",
        " #[5,7,9]\n",
        " c=range(5,10,2)\n",
        " print(c[0],c[1],c[2])\n",
        " #[0,-1,-2,-3,-4,-5,-6,-7,-8,-9]\n",
        " d=range(0,-10,-1)\n",
        " print(d[0],d[1],d[2],d[3],d[4],d[5],d[6],d[7],d[8],d[9])\n",
        " "
      ],
      "execution_count": 31,
      "outputs": [
        {
          "output_type": "stream",
          "text": [
            "0 1 2 3 4 5 6 7 8 9\n",
            "0 2 4 6 8\n",
            "5 7 9\n",
            "0 -1 -2 -3 -4 -5 -6 -7 -8 -9\n"
          ],
          "name": "stdout"
        }
      ]
    },
    {
      "cell_type": "code",
      "metadata": {
        "colab": {
          "base_uri": "https://localhost:8080/"
        },
        "id": "J1li9dLYx9CP",
        "outputId": "39a3edcc-8d3a-441d-df3b-1c2de52770cc"
      },
      "source": [
        " project_title=\"尚未決定\"\n",
        " name_list=[\"邱秉承\",\"何原興\",\"邱俊彥\",\"吳家俊\",\"周子豪\",\"王耀霆\",\"張瑋麟\",\"葛毓天\"]\n",
        " number_list=[\"69\",\"35\",\"83\",\"85\",\"不知道\",\"不知道\",\"58\",\"13\",\"不知道\"]\n",
        " duty_list=\"尚未決定\"\n",
        " load_list=\"尚未決定\"\n",
        " print(project_title,name_list,number_list,duty_list,load_list)"
      ],
      "execution_count": 35,
      "outputs": [
        {
          "output_type": "stream",
          "text": [
            "尚未決定 ['邱秉承', '何原興', '邱俊彥', '吳家俊', '周子豪', '王耀霆', '張瑋麟', '葛毓天'] ['69', '35', '83', '85', '不知道', '不知道', '58', '13', '不知道'] 尚未決定 尚未決定\n"
          ],
          "name": "stdout"
        }
      ]
    }
  ]
}