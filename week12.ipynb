{
  "nbformat": 4,
  "nbformat_minor": 0,
  "metadata": {
    "colab": {
      "name": "Untitled1.ipynb",
      "provenance": [],
      "authorship_tag": "ABX9TyOrtZvckcu4jr/0lQs2utDu",
      "include_colab_link": true
    },
    "kernelspec": {
      "name": "python3",
      "display_name": "Python 3"
    }
  },
  "cells": [
    {
      "cell_type": "markdown",
      "metadata": {
        "id": "view-in-github",
        "colab_type": "text"
      },
      "source": [
        "<a href=\"https://colab.research.google.com/github/chiubingchengd/Computational-Thinking-1/blob/master/week12.ipynb\" target=\"_parent\"><img src=\"https://colab.research.google.com/assets/colab-badge.svg\" alt=\"Open In Colab\"/></a>"
      ]
    },
    {
      "cell_type": "code",
      "metadata": {
        "id": "T7g32j193tph"
      },
      "source": [
        "shoppinng_list=['蘋果' '香蕉' '牛肉' '豬肉' '羊肉']\n",
        "print(shoppinng_list)"
      ],
      "execution_count": null,
      "outputs": []
    },
    {
      "cell_type": "code",
      "metadata": {
        "id": "FxSmyFrv3uVr"
      },
      "source": [
        "# NBA冠軍賽的六筆資訊\n",
        "season = \"1995-1996\"\n",
        "team = \"Chicago Bulls\"\n",
        "coach = \"Phil Jackson\"\n",
        "records = [72, 10]\n",
        "starting = [\"Ron Harper\", \"Michael Jordan\", \"ScottiePippen\", \"Dennis Rodman\", \"Luc Longley\"]\n",
        "champion = True\n",
        "best_NBA = list((season, team, coach, starting,))\n",
        "print(best_NBA )"
      ],
      "execution_count": null,
      "outputs": []
    },
    {
      "cell_type": "code",
      "metadata": {
        "id": "Psfsq3Cb3ufi"
      },
      "source": [
        "#[0,1,2,3,4,5,6,7,8,9]\n",
        " a=range(0, 10, 1)\n",
        " print(a[0],a[1],a[2],a[3],a[4],a[5],a[6],a[7],a[8],a[9])\n",
        " #[0,2,4,6,8]\n",
        " b=range(0,9,2)\n",
        " print(b[0],b[1],b[2],b[3],b[4])\n",
        " #[5,7,9]\n",
        " c=range(5,10,2)\n",
        " print(c[0],c[1],c[2])\n",
        " #[0,-1,-2,-3,-4,-5,-6,-7,-8,-9]\n",
        " d=range(0,-10,-1)\n",
        " print(d[0],d[1],d[2],d[3],d[4],d[5],d[6],d[7],d[8],d[9])\n",
        " "
      ],
      "execution_count": null,
      "outputs": []
    },
    {
      "cell_type": "code",
      "metadata": {
        "id": "JqsPWo2G3upa"
      },
      "source": [
        "project_title=\"尚未決定\"\n",
        " name_list=[\"邱秉承\",\"何原興\",\"邱俊彥\",\"吳家俊\",\"周子豪\",\"王耀霆\",\"張瑋麟\",\"葛毓天\"]\n",
        " number_list=[\"69\",\"35\",\"83\",\"85\",\"不知道\",\"不知道\",\"58\",\"13\",\"不知道\"]\n",
        " duty_list=\"尚未決定\"\n",
        " load_list=\"尚未決定\"\n",
        " print(project_title,name_list,number_list,duty_list,load_list)"
      ],
      "execution_count": null,
      "outputs": []
    }
  ]
}