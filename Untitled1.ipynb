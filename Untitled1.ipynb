{
  "nbformat": 4,
  "nbformat_minor": 0,
  "metadata": {
    "colab": {
      "name": "Untitled1.ipynb",
      "provenance": [],
      "authorship_tag": "ABX9TyP3GJeouT/rLrwVmv1DIjTH",
      "include_colab_link": true
    },
    "kernelspec": {
      "name": "python3",
      "display_name": "Python 3"
    }
  },
  "cells": [
    {
      "cell_type": "markdown",
      "metadata": {
        "id": "view-in-github",
        "colab_type": "text"
      },
      "source": [
        "<a href=\"https://colab.research.google.com/github/chiubingchengd/Computational-Thinking-1/blob/master/Untitled1.ipynb\" target=\"_parent\"><img src=\"https://colab.research.google.com/assets/colab-badge.svg\" alt=\"Open In Colab\"/></a>"
      ]
    },
    {
      "cell_type": "code",
      "metadata": {
        "id": "2a5lrjqhdC4f",
        "outputId": "f66bf6da-992e-40cb-9316-aa90b062c207",
        "colab": {
          "base_uri": "https://localhost:8080/"
        }
      },
      "source": [
        "N1=10\n",
        "N2=5\n",
        "magic_number=(N1**5)%N2+333\n",
        "print(magic_number)"
      ],
      "execution_count": 3,
      "outputs": [
        {
          "output_type": "stream",
          "text": [
            "333\n"
          ],
          "name": "stdout"
        }
      ]
    }
  ]
}